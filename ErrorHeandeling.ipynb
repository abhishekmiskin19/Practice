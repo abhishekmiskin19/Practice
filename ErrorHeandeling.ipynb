{
 "cells": [
  {
   "cell_type": "code",
   "execution_count": 2,
   "id": "8fc12541",
   "metadata": {},
   "outputs": [
    {
     "name": "stdout",
     "output_type": "stream",
     "text": [
      "Enter a numberf\n",
      "Thank you for useing the cord\n",
      "invalid literal for int() with base 10: 'f'\n",
      "thank you\n"
     ]
    }
   ],
   "source": [
    "try:\n",
    "    a = int(input(\"Enter a number\"))\n",
    "    c =1/a\n",
    "    print(c)\n",
    "except Exception as e:\n",
    "    print(\"Thank you for useing the cord\")\n",
    "    print(e)\n",
    "print(\"thank you\")"
   ]
  },
  {
   "cell_type": "code",
   "execution_count": 7,
   "id": "3b9989b7",
   "metadata": {},
   "outputs": [
    {
     "name": "stdout",
     "output_type": "stream",
     "text": [
      "Enter a number02\n",
      "0.5\n",
      "thank you\n"
     ]
    }
   ],
   "source": [
    "try:\n",
    "    a = int(input(\"Enter a number\"))\n",
    "    c =1/a\n",
    "    print(c)\n",
    "except ZeroDivisionError as e:\n",
    "    print(\"Exception occured:1\")\n",
    "    print(e)\n",
    "except ValueError as e:\n",
    "    print(\"Exception occured:2\")\n",
    "    print(e)\n",
    "print(\"thank you\")"
   ]
  },
  {
   "cell_type": "code",
   "execution_count": 13,
   "id": "ad9e1281",
   "metadata": {},
   "outputs": [
    {
     "name": "stdout",
     "output_type": "stream",
     "text": [
      "16\n"
     ]
    }
   ],
   "source": [
    "def increment(num):\n",
    "    try:\n",
    "        return int(num) + 1\n",
    "    except:\n",
    "        raise ValueError(\"This is a Value Error\")\n",
    "a = increment(15)\n",
    "print(a)"
   ]
  },
  {
   "cell_type": "code",
   "execution_count": 17,
   "id": "116822a4",
   "metadata": {},
   "outputs": [
    {
     "name": "stdout",
     "output_type": "stream",
     "text": [
      "Enter a number: 25\n",
      "0.08\n",
      "We were Successful\n"
     ]
    }
   ],
   "source": [
    "try:\n",
    "    i = int(input(\"Enter a number: \"))\n",
    "    c = 2/i\n",
    "    print(c)\n",
    "except Exception as e:\n",
    "    print(\"Exception Occured\")\n",
    "    print(e)\n",
    "else:\n",
    "    print(\"We were Successful\")"
   ]
  },
  {
   "cell_type": "code",
   "execution_count": 21,
   "id": "0f771574",
   "metadata": {},
   "outputs": [
    {
     "name": "stdout",
     "output_type": "stream",
     "text": [
      "Enter a number: 12\n",
      "0.16666666666666666\n",
      "We were Successful\n",
      "We Are Done\n"
     ]
    }
   ],
   "source": [
    "try:\n",
    "    i = int(input(\"Enter a number: \"))\n",
    "    c = 2/i\n",
    "    print(c)\n",
    "except Exception as e:\n",
    "    print(\"Exception Occured\")\n",
    "    print(e)\n",
    "else:\n",
    "    print(\"We were Successful\")\n",
    "finally:\n",
    "    print(\"We Are Done\")"
   ]
  },
  {
   "cell_type": "code",
   "execution_count": 8,
   "id": "cd78d905",
   "metadata": {},
   "outputs": [],
   "source": [
    "if __name__ == \"__main__\":\n",
    "    pass"
   ]
  },
  {
   "cell_type": "code",
   "execution_count": 22,
   "id": "8467be0c",
   "metadata": {},
   "outputs": [
    {
     "name": "stdout",
     "output_type": "stream",
     "text": [
      "50\n",
      "5\n"
     ]
    },
    {
     "data": {
      "text/plain": [
       "5"
      ]
     },
     "execution_count": 22,
     "metadata": {},
     "output_type": "execute_result"
    }
   ],
   "source": [
    "a = 50 # Global Variable\n",
    "def n():\n",
    "    global a\n",
    "    print(a)\n",
    "    a = 5 # Local Variable\n",
    "    print(a)\n",
    "n()\n",
    "a # Global Variable"
   ]
  },
  {
   "cell_type": "code",
   "execution_count": 32,
   "id": "17016bb9",
   "metadata": {},
   "outputs": [
    {
     "name": "stdout",
     "output_type": "stream",
     "text": [
      "0 -  How are you?\n",
      "1 -  I'm glead, how about u?\n",
      "2 -  i'm also fine\n",
      "3 -  That's Great\n"
     ]
    }
   ],
   "source": [
    "list1 = [\"How are you?\", \"I'm glead, how about u?\", \"i'm also fine\", \"That's Great\"]\n",
    "for index,b in enumerate(list1):\n",
    "    print(index,\"- \", b)"
   ]
  },
  {
   "cell_type": "code",
   "execution_count": 24,
   "id": "3d5037f5",
   "metadata": {},
   "outputs": [
    {
     "name": "stdout",
     "output_type": "stream",
     "text": [
      "[2]\n"
     ]
    }
   ],
   "source": [
    "lst = [1, 2, 5, 5, 75, 66, 13, 22, 21, 51, 71, 61, 115]\n",
    "a = []\n",
    "#for i in lst:\n",
    "#    if i%2==0:\n",
    "#        i.append(a)\n",
    "\n",
    "item = [i for i in lst if i%2==0]\n",
    "\n",
    "print(item)"
   ]
  },
  {
   "cell_type": "code",
   "execution_count": 4,
   "id": "8271e36a",
   "metadata": {},
   "outputs": [
    {
     "name": "stdout",
     "output_type": "stream",
     "text": [
      "Enter you number: 10\n",
      "[10, 20, 30, 40, 50, 60, 70, 80, 90, 100]\n"
     ]
    }
   ],
   "source": [
    "num = int(input(\"Enter you number: \"))\n",
    "table = [num*i for i in range(1, 11)]\n",
    "print(table )"
   ]
  },
  {
   "cell_type": "code",
   "execution_count": 9,
   "id": "6a7b0ab1",
   "metadata": {},
   "outputs": [
    {
     "name": "stdout",
     "output_type": "stream",
     "text": [
      "Enter you number: 20\n",
      "[20, 40, 60, 80, 100, 120, 140, 160, 180, 200]\n"
     ]
    }
   ],
   "source": [
    "num = int(input(\"Enter you number: \"))\n",
    "table = [num*i for i in range(1, 11)]\n",
    "print(table )\n",
    "\n",
    "with open(\"table.txt\", \"a\") as f:\n",
    "    f.write(str(table))\n",
    "    f.write(\"/n\")"
   ]
  },
  {
   "cell_type": "code",
   "execution_count": 58,
   "id": "9d4c6bde",
   "metadata": {},
   "outputs": [],
   "source": [
    "class Mobile:\n",
    "    def call(self):\n",
    "        print(\"Call\")\n",
    "    def ring(self):\n",
    "        print(\"Ring\")"
   ]
  },
  {
   "cell_type": "code",
   "execution_count": 59,
   "id": "9907c53a",
   "metadata": {},
   "outputs": [],
   "source": [
    "m = Mobile()"
   ]
  },
  {
   "cell_type": "code",
   "execution_count": 60,
   "id": "00f6f4fa",
   "metadata": {},
   "outputs": [
    {
     "name": "stdout",
     "output_type": "stream",
     "text": [
      "Call\n"
     ]
    }
   ],
   "source": [
    "m.call()"
   ]
  },
  {
   "cell_type": "code",
   "execution_count": 43,
   "id": "840bc612",
   "metadata": {},
   "outputs": [
    {
     "name": "stdout",
     "output_type": "stream",
     "text": [
      "Ring\n"
     ]
    }
   ],
   "source": [
    "m.ring()"
   ]
  },
  {
   "cell_type": "code",
   "execution_count": 69,
   "id": "f2b2999b",
   "metadata": {},
   "outputs": [],
   "source": [
    "class Mobile:\n",
    "    def __init__(self):\n",
    "        self.model = \"60-GB\"\n",
    "    def Show_Model(self):\n",
    "        print(\"Model:\", self.model)"
   ]
  },
  {
   "cell_type": "code",
   "execution_count": 70,
   "id": "28131104",
   "metadata": {},
   "outputs": [],
   "source": [
    "m = Mobile()"
   ]
  },
  {
   "cell_type": "code",
   "execution_count": 71,
   "id": "dcbcf8fb",
   "metadata": {},
   "outputs": [
    {
     "data": {
      "text/plain": [
       "'60-GB'"
      ]
     },
     "execution_count": 71,
     "metadata": {},
     "output_type": "execute_result"
    }
   ],
   "source": [
    "m.model"
   ]
  },
  {
   "cell_type": "code",
   "execution_count": 72,
   "id": "53313422",
   "metadata": {},
   "outputs": [
    {
     "name": "stdout",
     "output_type": "stream",
     "text": [
      "Model: 60-GB\n"
     ]
    }
   ],
   "source": [
    "m.Show_Model()"
   ]
  },
  {
   "cell_type": "code",
   "execution_count": 76,
   "id": "145a3bc0",
   "metadata": {},
   "outputs": [],
   "source": [
    "class car:\n",
    "    def __init__(self, m):\n",
    "        self.model = m\n",
    "    def PriceOfCar(self, p):\n",
    "        self.price = p\n",
    "        print('Model:', self.model,  \"Price:\", self.price)"
   ]
  },
  {
   "cell_type": "code",
   "execution_count": 77,
   "id": "3542a201",
   "metadata": {},
   "outputs": [],
   "source": [
    "cars = car(\"Ford\")"
   ]
  },
  {
   "cell_type": "code",
   "execution_count": 78,
   "id": "3d3698ee",
   "metadata": {},
   "outputs": [
    {
     "name": "stdout",
     "output_type": "stream",
     "text": [
      "Model: Ford Price: 1.5Cr\n"
     ]
    }
   ],
   "source": [
    "cars.PriceOfCar(\"1.5Cr\")"
   ]
  },
  {
   "cell_type": "code",
   "execution_count": 84,
   "id": "8f713896",
   "metadata": {},
   "outputs": [
    {
     "name": "stdout",
     "output_type": "stream",
     "text": [
      "2113344994752\n",
      "2113301250784\n",
      "2113351996848\n"
     ]
    }
   ],
   "source": [
    "print(id(cars))\n",
    "print(id(car))\n",
    "print(id(m))"
   ]
  },
  {
   "cell_type": "code",
   "execution_count": 15,
   "id": "c38a1ca2",
   "metadata": {},
   "outputs": [
    {
     "data": {
      "text/plain": [
       "'Hi Good Morning'"
      ]
     },
     "execution_count": 15,
     "metadata": {},
     "output_type": "execute_result"
    }
   ],
   "source": [
    "class Hello:\n",
    "    hi = \"Hi Good Morning\"\n",
    "    \n",
    "    @classmethod\n",
    "    def show(cls):\n",
    "        print(cls.hi)\n",
    "\n",
    "hey = Hello()\n",
    "Bye = Hello()\n",
    "Hello.hi"
   ]
  },
  {
   "cell_type": "code",
   "execution_count": 16,
   "id": "d238a487",
   "metadata": {},
   "outputs": [
    {
     "name": "stdout",
     "output_type": "stream",
     "text": [
      "Hi Good Morning\n"
     ]
    }
   ],
   "source": [
    "Hello.show()"
   ]
  },
  {
   "cell_type": "code",
   "execution_count": 20,
   "id": "0dad0336",
   "metadata": {},
   "outputs": [
    {
     "name": "stdout",
     "output_type": "stream",
     "text": [
      "No\n",
      "No\n",
      "No\n"
     ]
    }
   ],
   "source": [
    "Hello.hi = \"No\"\n",
    "Hello.show()\n",
    "hey.show()\n",
    "Bye.show()"
   ]
  },
  {
   "cell_type": "code",
   "execution_count": 25,
   "id": "48ee1534",
   "metadata": {},
   "outputs": [
    {
     "data": {
      "text/plain": [
       "'yes'"
      ]
     },
     "execution_count": 25,
     "metadata": {},
     "output_type": "execute_result"
    }
   ],
   "source": [
    "hey.hi = \"yes\"\n",
    "hey.hi"
   ]
  },
  {
   "cell_type": "code",
   "execution_count": 31,
   "id": "ce7c2ba5",
   "metadata": {},
   "outputs": [
    {
     "name": "stdout",
     "output_type": "stream",
     "text": [
      "No\n",
      "yes\n"
     ]
    }
   ],
   "source": [
    "print(Bye.hi)\n",
    "print(hey.hi)"
   ]
  },
  {
   "cell_type": "raw",
   "id": "c9360ffd",
   "metadata": {},
   "source": []
  }
 ],
 "metadata": {
  "kernelspec": {
   "display_name": "Python 3.10.7 64-bit",
   "language": "python",
   "name": "python3"
  },
  "language_info": {
   "codemirror_mode": {
    "name": "ipython",
    "version": 3
   },
   "file_extension": ".py",
   "mimetype": "text/x-python",
   "name": "python",
   "nbconvert_exporter": "python",
   "pygments_lexer": "ipython3",
   "version": "3.10.7"
  },
  "vscode": {
   "interpreter": {
    "hash": "a9cff5a362bc38ef45d817ae74b1af54d6a076e3d773891282bce078b815ba34"
   }
  }
 },
 "nbformat": 4,
 "nbformat_minor": 5
}
