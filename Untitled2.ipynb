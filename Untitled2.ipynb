{
 "cells": [
  {
   "cell_type": "code",
   "execution_count": 8,
   "id": "e5c83be4",
   "metadata": {},
   "outputs": [],
   "source": [
    "class Car:\n",
    "    def __init__(self, mode, sport):\n",
    "        self.mode = mode\n",
    "        self.sport = sport\n",
    "    def ret_vel(self):\n",
    "        print(\"Car mode is\", self.mode)\n",
    "        print(\"Car name is\", self.sport)"
   ]
  },
  {
   "cell_type": "code",
   "execution_count": 9,
   "id": "5fdff5c8",
   "metadata": {},
   "outputs": [],
   "source": [
    "AR = Car(\"ford\",\"GT\") "
   ]
  },
  {
   "cell_type": "code",
   "execution_count": 10,
   "id": "5763553b",
   "metadata": {},
   "outputs": [
    {
     "name": "stdout",
     "output_type": "stream",
     "text": [
      "Car mode is ford\n",
      "Car name is GT\n"
     ]
    }
   ],
   "source": [
    "AR.ret_vel()"
   ]
  },
  {
   "cell_type": "code",
   "execution_count": 13,
   "id": "5c835b2d",
   "metadata": {},
   "outputs": [],
   "source": [
    "class Bike:\n",
    "    def __init__(self, mode, sport):\n",
    "        self.mode = mode\n",
    "        self.sport = sport\n",
    "    def ret_vell(self):\n",
    "        print(\"Bike mode is\", self.mode)\n",
    "        print(\"Bike name is\", self.sport)"
   ]
  },
  {
   "cell_type": "code",
   "execution_count": 14,
   "id": "cdd822f9",
   "metadata": {},
   "outputs": [],
   "source": [
    "AR1 = Bike(\"Yamaha\",\"RX100\")"
   ]
  },
  {
   "cell_type": "code",
   "execution_count": 15,
   "id": "735290bd",
   "metadata": {},
   "outputs": [
    {
     "name": "stdout",
     "output_type": "stream",
     "text": [
      "Bike mode is Yamaha\n",
      "Bike name is RX100\n"
     ]
    }
   ],
   "source": [
    "AR1.ret_vell()"
   ]
  },
  {
   "cell_type": "code",
   "execution_count": 17,
   "id": "c4c230f4",
   "metadata": {},
   "outputs": [],
   "source": [
    "class Act_va(Car,Bike):\n",
    "    def re_vall2(self):\n",
    "        print(\"The car IS CHILD CLASS \")"
   ]
  },
  {
   "cell_type": "code",
   "execution_count": 18,
   "id": "d2db2505",
   "metadata": {},
   "outputs": [],
   "source": [
    "Ac = Act_va(\"Activa\",\"6G\")"
   ]
  },
  {
   "cell_type": "code",
   "execution_count": 22,
   "id": "c88bd3c4",
   "metadata": {},
   "outputs": [
    {
     "name": "stdout",
     "output_type": "stream",
     "text": [
      "Car mode is Activa\n",
      "Car name is 6G\n",
      "Bike mode is Activa\n",
      "Bike name is 6G\n"
     ]
    }
   ],
   "source": [
    "Ac.ret_vel()\n",
    "Ac.ret_vell()"
   ]
  },
  {
   "cell_type": "code",
   "execution_count": 28,
   "id": "0117f35f",
   "metadata": {},
   "outputs": [],
   "source": [
    "class car1:\n",
    "    def subj(self,mode):\n",
    "        self.mode = mode\n",
    "    def sb_jj(self):\n",
    "        return self.mode"
   ]
  },
  {
   "cell_type": "code",
   "execution_count": 35,
   "id": "f3d4e43d",
   "metadata": {},
   "outputs": [],
   "source": [
    "class car2:\n",
    "    def subj1(self,mode1):\n",
    "        self.mode1 = mode1\n",
    "    def sb_jj1(self):\n",
    "        return self.mode1"
   ]
  },
  {
   "cell_type": "code",
   "execution_count": 36,
   "id": "77b5fa98",
   "metadata": {},
   "outputs": [],
   "source": [
    "class car23(car1,car2):\n",
    "    def subj21(self,mode12):\n",
    "        self.mode12 = mode12\n",
    "    def sb_jj21(self):\n",
    "        return self.mode12"
   ]
  },
  {
   "cell_type": "code",
   "execution_count": 37,
   "id": "11f23d0d",
   "metadata": {},
   "outputs": [],
   "source": [
    "a = car23()"
   ]
  },
  {
   "cell_type": "code",
   "execution_count": 39,
   "id": "5754e549",
   "metadata": {},
   "outputs": [],
   "source": [
    "a.subj21(\"Ford\")"
   ]
  },
  {
   "cell_type": "code",
   "execution_count": 40,
   "id": "032baa4e",
   "metadata": {},
   "outputs": [
    {
     "data": {
      "text/plain": [
       "'Ford'"
      ]
     },
     "execution_count": 40,
     "metadata": {},
     "output_type": "execute_result"
    }
   ],
   "source": [
    "a.sb_jj21()"
   ]
  },
  {
   "cell_type": "code",
   "execution_count": null,
   "id": "2290fd8c",
   "metadata": {},
   "outputs": [],
   "source": []
  }
 ],
 "metadata": {
  "kernelspec": {
   "display_name": "Python 3 (ipykernel)",
   "language": "python",
   "name": "python3"
  },
  "language_info": {
   "codemirror_mode": {
    "name": "ipython",
    "version": 3
   },
   "file_extension": ".py",
   "mimetype": "text/x-python",
   "name": "python",
   "nbconvert_exporter": "python",
   "pygments_lexer": "ipython3",
   "version": "3.9.12"
  }
 },
 "nbformat": 4,
 "nbformat_minor": 5
}
