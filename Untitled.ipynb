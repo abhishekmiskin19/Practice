{
 "cells": [
  {
   "cell_type": "code",
   "execution_count": 8,
   "id": "7d90ab4c",
   "metadata": {},
   "outputs": [
    {
     "name": "stdout",
     "output_type": "stream",
     "text": [
      "* \n",
      "* * \n",
      "* * * \n",
      "* * * * \n",
      "* * * * * \n",
      "* * * * * * \n",
      "* * * * * * * \n",
      "* * * * * * * * \n",
      "* * * * * * * * * \n",
      "* * * * * * * * * * \n",
      "* * * * * * * * * * * \n",
      "* * * * * * * * * * \n",
      "* * * * * * * * * \n",
      "* * * * * * * * \n",
      "* * * * * * * \n",
      "* * * * * * \n",
      "* * * * * \n",
      "* * * * \n",
      "* * * \n",
      "* * \n",
      "* \n"
     ]
    }
   ],
   "source": [
    "for i in range(1, 12):\n",
    "    print(\"* \" * i)\n",
    "for i in range(10, 0, -1):\n",
    "    print(\"* \" * i)"
   ]
  },
  {
   "cell_type": "code",
   "execution_count": 4,
   "id": "6e42f5e4",
   "metadata": {},
   "outputs": [
    {
     "name": "stdout",
     "output_type": "stream",
     "text": [
      "* * * * * * * * * * \n",
      "* * * * * * * * * \n",
      "* * * * * * * * \n",
      "* * * * * * * \n",
      "* * * * * * \n",
      "* * * * * \n",
      "* * * * \n",
      "* * * \n",
      "* * \n",
      "* \n"
     ]
    }
   ],
   "source": [
    "for i in range(10, 0, -1):\n",
    "    print(\"* \" * i)"
   ]
  },
  {
   "cell_type": "code",
   "execution_count": 1,
   "id": "9496ab62",
   "metadata": {},
   "outputs": [
    {
     "name": "stdout",
     "output_type": "stream",
     "text": [
      "Enter 1st Number: 25\n",
      "+,-,*,/\n",
      "Enter Operator*\n",
      "Enter 2nd Number: 2\n",
      "50.0\n"
     ]
    }
   ],
   "source": [
    "f_n1 = float(input(\"Enter 1st Number: \"))\n",
    "\n",
    "print(\"+,-,*,/\")\n",
    "result = input(\"Enter Operator\")\n",
    "\n",
    "s_n2 = float(input(\"Enter 2nd Number: \"))\n",
    "\n",
    "if result == \"+\":\n",
    "    print(f_n1 + s_n2)\n",
    "\n",
    "elif result == \"-\":\n",
    "    print(f_n1 - s_n2)\n",
    "    \n",
    "elif result == \"*\":\n",
    "    print(f_n1 * s_n2)\n",
    "    \n",
    "elif result == \"/\":\n",
    "    print(f_n1 / s_n2)\n",
    "    \n",
    "else:\n",
    "    print(\"enter valid number\")"
   ]
  },
  {
   "cell_type": "code",
   "execution_count": 2,
   "id": "e4df63f8",
   "metadata": {},
   "outputs": [
    {
     "name": "stdout",
     "output_type": "stream",
     "text": [
      "A *_* b *_* h *_* i *_* s *_* h *_* e *_* k *_* "
     ]
    }
   ],
   "source": [
    "Name = \"Abhishek\"\n",
    "\n",
    "for i in Name:\n",
    "    print(i, end=\" *_* \")"
   ]
  },
  {
   "cell_type": "code",
   "execution_count": 11,
   "id": "9d1f15f0",
   "metadata": {},
   "outputs": [
    {
     "name": "stdout",
     "output_type": "stream",
     "text": [
      "\n",
      "\\ \n",
      "\\ \\ \n",
      "\\ \\ \\ \n",
      "\\ \\ \\ \\ \n",
      "\\ \\ \\ \\ \\ \n",
      "\\ \\ \\ \\ \\ \\ \n",
      "\\ \\ \\ \\ \\ \\ \\ \n",
      "\\ \\ \\ \\ \\ \\ \\ \\ \n",
      "\\ \\ \\ \\ \\ \\ \\ \\ \\ \n",
      "\\ \\ \\ \\ \\ \\ \\ \\ \\ \\ \n",
      "/ / / / / / / / / / \n",
      "/ / / / / / / / / \n",
      "/ / / / / / / / \n",
      "/ / / / / / / \n",
      "/ / / / / / \n",
      "/ / / / / \n",
      "/ / / / \n",
      "/ / / \n",
      "/ / \n",
      "/ \n"
     ]
    }
   ],
   "source": [
    "for i in range(0, 11):\n",
    "    print(\"\\ \" * i)\n",
    "for i in range(10, 0, -1):\n",
    "    print(\"/ \" * i)"
   ]
  },
  {
   "cell_type": "code",
   "execution_count": 13,
   "id": "732bc65e",
   "metadata": {},
   "outputs": [
    {
     "name": "stdout",
     "output_type": "stream",
     "text": [
      "/ / / / / / / / / / \n",
      "/ / / / / / / / / \n",
      "/ / / / / / / / \n",
      "/ / / / / / / \n",
      "/ / / / / / \n",
      "/ / / / / \n",
      "/ / / / \n",
      "/ / / \n",
      "/ / \n",
      "/ \n",
      "\n",
      "\\ \n",
      "\\ \\ \n",
      "\\ \\ \\ \n",
      "\\ \\ \\ \\ \n",
      "\\ \\ \\ \\ \\ \n",
      "\\ \\ \\ \\ \\ \\ \n",
      "\\ \\ \\ \\ \\ \\ \\ \n",
      "\\ \\ \\ \\ \\ \\ \\ \\ \n",
      "\\ \\ \\ \\ \\ \\ \\ \\ \\ \n",
      "\\ \\ \\ \\ \\ \\ \\ \\ \\ \\ \n"
     ]
    }
   ],
   "source": [
    "for i in range(10, 0, -1):\n",
    "    print(\"/ \" * i)\n",
    "for i in range(0, 11):\n",
    "    print(\"\\ \" * i)"
   ]
  },
  {
   "cell_type": "code",
   "execution_count": 1,
   "id": "21dc77ab",
   "metadata": {},
   "outputs": [
    {
     "name": "stdout",
     "output_type": "stream",
     "text": [
      "          \n",
      "          +\n",
      "         + +\n",
      "        + + +\n",
      "       + + + +\n",
      "      + + + + +\n",
      "     + + + + + +\n",
      "    + + + + + + +\n",
      "   + + + + + + + +\n",
      "  + + + + + + + + +\n",
      " + + + + + + + + + +\n"
     ]
    }
   ],
   "source": [
    "for i in range(0, 11):\n",
    "    print(' ' * (10-i) + ' +' * i)"
   ]
  },
  {
   "cell_type": "code",
   "execution_count": 18,
   "id": "4ed27ca9",
   "metadata": {},
   "outputs": [
    {
     "name": "stdout",
     "output_type": "stream",
     "text": [
      "Hello abhishek, what's going on\n",
      "Hello abhishek, what\"s going on\n",
      "Hello abhishek, \n",
      "        what\"s going \n",
      "on.    Is there,every\n",
      "thing fine\n"
     ]
    }
   ],
   "source": [
    "Name = \"Hello abhishek, what's going on\"\n",
    "name = 'Hello abhishek, what\"s going on'\n",
    "A_name = '''Hello abhishek, \n",
    "        what\"s going \n",
    "on.    Is there,every\n",
    "thing fine'''\n",
    "print(Name)\n",
    "print(name)\n",
    "print(A_name)"
   ]
  },
  {
   "cell_type": "code",
   "execution_count": 43,
   "id": "47804c25",
   "metadata": {},
   "outputs": [
    {
     "name": "stdout",
     "output_type": "stream",
     "text": [
      "hello Abhishek, Are you fine! everything okay with you? Dear Abhishek\n",
      "<class 'str'>\n",
      "69\n",
      "h\n",
      "Abhi\n",
      "Abhishek, Are you fine! everything okay with you? Dear Abhishek\n",
      "hloAhse,Aeyufn!eeyhn kywt o?\n",
      "False\n",
      "hello Abhi, Are you fine! everything okay with you? Dear Abhi\n",
      "2\n",
      "0\n",
      "Hello abhishek, are you fine! everything okay with you? dear abhishek\n",
      "HELLO ABHISHEK, ARE YOU FINE! EVERYTHING OKAY WITH YOU? DEAR ABHISHEK\n",
      "6\n"
     ]
    }
   ],
   "source": [
    "name = \"hello Abhishek, Are you fine! everything okay with you? Dear Abhishek\"\n",
    "print(name)\n",
    "print(type(name))\n",
    "print(len(name))\n",
    "print(name[0])\n",
    "print(name[6:10])\n",
    "print(name[6:])\n",
    "print(name[0:55:2])\n",
    "print(name.endswith(\"you?\"))\n",
    "print(name.replace(\"Abhishek\", \"Abhi\"))\n",
    "print(name.count(\"Abhishek\"))  # There is 2 Abhishek in name\n",
    "print(name.count(\"Z\"))         # ans 0 that means there in no Z in name\n",
    "print(name.capitalize())\n",
    "print(name.upper())\n",
    "print(name.find(\"Abhishek\"))"
   ]
  },
  {
   "cell_type": "code",
   "execution_count": 26,
   "id": "153610e8",
   "metadata": {},
   "outputs": [
    {
     "name": "stdout",
     "output_type": "stream",
     "text": [
      "['Abhi', 17.1, 'Abhshek', 21, 'Miskin', 'Abhi']\n",
      "['Abhi', 17.1, 'Abhshek', 21, 'Miskin', 'Abhi']\n",
      "['Abhi', 'Abhshek', 'Miskin']\n",
      "[21, 'Miskin', 'Abhi']\n",
      "Abhi\n",
      "2\n",
      "<class 'list'>\n",
      "6\n"
     ]
    }
   ],
   "source": [
    "na = [\"Abhi\", 17.1, \"Abhshek\", 21, \"Miskin\", \"Abhi\"]\n",
    "print(na)\n",
    "print(na[0:6])\n",
    "print(na[0: :2])\n",
    "print(na[-3:])\n",
    "print(na[-1])\n",
    "print(na.count(\"Abhi\"))\n",
    "print(type(na))\n",
    "print(len(na))"
   ]
  },
  {
   "cell_type": "code",
   "execution_count": 45,
   "id": "0a1f9c95",
   "metadata": {},
   "outputs": [
    {
     "name": "stdout",
     "output_type": "stream",
     "text": [
      "hello Abhishek, Are you fine! everything okay with you? Dear Abhishek\n",
      "Hii Abhishek, Are you fine! everything okay with you? Dear Abhishek\n"
     ]
    }
   ],
   "source": [
    "print(name)\n",
    "print(name.replace(\"hello\", \"Hii\"))"
   ]
  },
  {
   "cell_type": "code",
   "execution_count": 52,
   "id": "9c33da2d",
   "metadata": {
    "scrolled": true
   },
   "outputs": [
    {
     "name": "stdout",
     "output_type": "stream",
     "text": [
      "\n",
      "\\ \n",
      "\\ \\ \n",
      "\\ \\ \\ \n",
      "\\ \\ \\ \\ \n",
      "\\ \\ \\ \\ \\ \n",
      "\\ \\ \\ \\ \\ \\ \n",
      "\\ \\ \\ \\ \\ \\ \\ \n",
      "\\ \\ \\ \\ \\ \\ \\ \\ \n",
      "\\ \\ \\ \\ \\ \\ \\ \\ \\ \n",
      "\\ \\ \\ \\ \\ \\ \\ \\ \\ \\ \n",
      "/ / / / / / / / / / \n",
      "/ / / / / / / / / \n",
      "/ / / / / / / / \n",
      "/ / / / / / / \n",
      "/ / / / / / \n",
      "/ / / / / \n",
      "/ / / / \n",
      "/ / / \n",
      "/ / \n",
      "/ \n"
     ]
    }
   ],
   "source": [
    "for i in range(0, 11):\n",
    "    print(\"\\ \" * i)\n",
    "for i in range(10, 0, -1):\n",
    "    print(\"/ \" * i)"
   ]
  },
  {
   "cell_type": "code",
   "execution_count": 53,
   "id": "0ded9f91",
   "metadata": {},
   "outputs": [
    {
     "name": "stdout",
     "output_type": "stream",
     "text": [
      "> > > > > > > > > > \n",
      "> > > > > > > > > \n",
      "> > > > > > > > \n",
      "> > > > > > > \n",
      "> > > > > > \n",
      "> > > > > \n",
      "> > > > \n",
      "> > > \n",
      "> > \n",
      "> \n"
     ]
    }
   ],
   "source": [
    "for i in range(0, 11):\n",
    "    print(\"> \" * i)\n",
    "for i in range(10, 0, -1):\n",
    "    print(\"> \" * i)"
   ]
  },
  {
   "cell_type": "code",
   "execution_count": 8,
   "id": "c059310d",
   "metadata": {},
   "outputs": [
    {
     "name": "stdout",
     "output_type": "stream",
     "text": [
      "1\n",
      "2\n",
      "3\n",
      "4\n",
      "5\n"
     ]
    }
   ],
   "source": [
    "a = 1\n",
    "while a < 6:\n",
    "    print(a)\n",
    "    a += 1\n",
    "    "
   ]
  },
  {
   "cell_type": "code",
   "execution_count": 16,
   "id": "ed3d6d00",
   "metadata": {},
   "outputs": [
    {
     "name": "stdout",
     "output_type": "stream",
     "text": [
      "1\n",
      "2\n",
      "3\n"
     ]
    }
   ],
   "source": [
    "i = 1\n",
    "while i < 6:\n",
    "    print(i)\n",
    "    if i == 3:\n",
    "        break\n",
    "    i += 1"
   ]
  },
  {
   "cell_type": "code",
   "execution_count": 24,
   "id": "0b72c5a6",
   "metadata": {},
   "outputs": [
    {
     "name": "stdout",
     "output_type": "stream",
     "text": [
      "1\n",
      "2\n",
      "3\n"
     ]
    }
   ],
   "source": [
    "i = 1\n",
    "while i < 6:\n",
    "    print(i)\n",
    "    if i == 3:\n",
    "        break\n",
    "    i += 1"
   ]
  },
  {
   "cell_type": "code",
   "execution_count": 1,
   "id": "7e98bb32",
   "metadata": {},
   "outputs": [
    {
     "name": "stdout",
     "output_type": "stream",
     "text": [
      "1\n",
      "2\n",
      "4\n",
      "5\n",
      "6\n"
     ]
    }
   ],
   "source": [
    "i = 0\n",
    "while i < 6:\n",
    "    i += 1\n",
    "    if i == 3:\n",
    "        continue\n",
    "    print(i)"
   ]
  },
  {
   "cell_type": "code",
   "execution_count": 3,
   "id": "c03a17bb",
   "metadata": {},
   "outputs": [
    {
     "name": "stdout",
     "output_type": "stream",
     "text": [
      "1\n",
      "2\n",
      "3\n",
      "4\n",
      "5\n",
      "i in no longer then 6\n"
     ]
    }
   ],
   "source": [
    "i = 1\n",
    "while i < 6:\n",
    "    print(i)\n",
    "    i += 1\n",
    "else :\n",
    "    print(\"i in no longer then 6\")"
   ]
  },
  {
   "cell_type": "code",
   "execution_count": 2,
   "id": "18429d1d",
   "metadata": {},
   "outputs": [
    {
     "name": "stdout",
     "output_type": "stream",
     "text": [
      "{'Abhi': 21, 1: 2, 'Abhishek': 'Miskin', 'Miskin': 'Abhi', 'Marks': 20, 'Hello': {'Hi': 'Hello'}}\n",
      "Miskin\n",
      "Miskin\n",
      "None\n"
     ]
    }
   ],
   "source": [
    "rt = {\n",
    "    \"Abhi\" : 21,\n",
    "    1 : 2,\n",
    "    \"Abhishek\" : \"Miskin\",\n",
    "    \"Miskin\" : \"Abhi\",\n",
    "    \"Marks\" : 20,\n",
    "    \"Hello\" : {\"Hi\" : \"Hello\"}\n",
    "}\n",
    "print(rt)\n",
    "print(rt['Abhishek'])\n",
    "print(rt.get('Abhishek'))\n",
    "print(rt.get('Abhishek1')) "
   ]
  },
  {
   "cell_type": "code",
   "execution_count": 3,
   "id": "781cc56a",
   "metadata": {},
   "outputs": [
    {
     "name": "stdout",
     "output_type": "stream",
     "text": [
      "dict_keys(['Abhi', 1, 'Abhishek', 'Miskin', 'Marks', 'Hello'])\n",
      "[50, 45]\n",
      "<class 'dict'>\n",
      "[('Abhi', 21), (1, 2), ('Abhishek', 'Miskin'), ('Miskin', 'Abhi'), ('Marks', [50, 45]), ('Hello', {'Hi': 'Hello'})]\n",
      "---------------------\n",
      "dict_items([('Abhi', 21), (1, 2), ('Abhishek', 'Miskin'), ('Miskin', 'Abhi'), ('Marks', [50, 45]), ('Hello', {'Hi': 'Hello'})])\n"
     ]
    }
   ],
   "source": [
    "print(rt.keys())\n",
    "rt[\"Marks\"] = [50,45]\n",
    "print(rt[\"Marks\"])\n",
    "print(type(rt))\n",
    "print(list(rt.items()))\n",
    "print(\"---------------------\")\n",
    "print(rt.items())"
   ]
  },
  {
   "cell_type": "code",
   "execution_count": null,
   "id": "5839c558",
   "metadata": {},
   "outputs": [],
   "source": []
  }
 ],
 "metadata": {
  "kernelspec": {
   "display_name": "Python 3 (ipykernel)",
   "language": "python",
   "name": "python3"
  },
  "language_info": {
   "codemirror_mode": {
    "name": "ipython",
    "version": 3
   },
   "file_extension": ".py",
   "mimetype": "text/x-python",
   "name": "python",
   "nbconvert_exporter": "python",
   "pygments_lexer": "ipython3",
   "version": "3.9.12"
  }
 },
 "nbformat": 4,
 "nbformat_minor": 5
}
